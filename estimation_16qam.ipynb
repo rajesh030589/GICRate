{
 "cells": [
  {
   "cell_type": "code",
   "execution_count": 187,
   "metadata": {
    "collapsed": true
   },
   "outputs": [],
   "source": [
    "import numpy as np\n",
    "import numpy.random as rand\n",
    "\n",
    "import torch\n",
    "import torch.nn as nn\n",
    "\n",
    "from torch import autograd\n",
    "from torch.nn import functional as F\n",
    "from torch import optim\n",
    "\n",
    "import matplotlib.pyplot as plt"
   ]
  },
  {
   "cell_type": "code",
   "execution_count": 188,
   "metadata": {
    "collapsed": true
   },
   "outputs": [],
   "source": [
    "# Converts integers 'x' into bits of length 'k'\n",
    "def num_to_bin(x, k):\n",
    "    bin_list = []\n",
    "    for i in range(k):\n",
    "        bin_list.append(x%2)\n",
    "        x = int(x/2)\n",
    "    return bin_list[::-1]\n",
    "\n",
    "# Converts bits 'x' into integers\n",
    "def input_to_number(x):\n",
    "    m = x.shape[0]\n",
    "    n = x.shape[1]\n",
    "    num = torch.empty(m,)\n",
    "    for i in range(m):\n",
    "        add = 0\n",
    "        for j in range(n):\n",
    "            add = add + x[i,j]*2**(n-1-j)\n",
    "        num[i] = add\n",
    "    num = num.long()\n",
    "    return num\n",
    "\n",
    "# Adds AWGN Noise\n",
    "def Channel(x, Noise_var):\n",
    "    return x + torch.randn(x.shape[1],)*Noise_var"
   ]
  },
  {
   "cell_type": "code",
   "execution_count": 189,
   "metadata": {
    "collapsed": true
   },
   "outputs": [],
   "source": [
    "class Net(nn.Module):\n",
    "    def __init__(self, in_size, hidden_size, out_size):\n",
    "        super().__init__()\n",
    "        # Layers at the transmitter\n",
    "        self.input      = nn.Linear(in_size, hidden_size)\n",
    "        self.h1         = nn.Linear(hidden_size, hidden_size)\n",
    "        self.h2         = nn.Linear(hidden_size, hidden_size)\n",
    "        self.output     = nn.Linear(hidden_size, out_size)\n",
    "        \n",
    "        # Layers at the receiver\n",
    "        self.rec_input  = nn.Linear(out_size, hidden_size)\n",
    "        self.rec_h1     = nn.Linear(hidden_size, hidden_size)\n",
    "        self.rec_h2     = nn.Linear(hidden_size, hidden_size)\n",
    "        self.rec_output = nn.Linear(hidden_size, 2**in_size)\n",
    "    \n",
    "    def forward(self,x):\n",
    "        x = F.relu(self.input(x))\n",
    "        x = F.relu(self.h1(x))\n",
    "        x = F.relu(self.h2(x))\n",
    "        x = self.output(x)\n",
    "        x = 2*torch.sigmoid(x) - 1\n",
    "        y = x\n",
    "        x = Channel(x,.25)\n",
    "        z = x\n",
    "        x = F.relu(self.rec_input(x))\n",
    "        x = F.relu(self.rec_h1(x))\n",
    "        x = F.relu(self.rec_h2(x))\n",
    "        x = F.log_softmax(self.rec_output(x), dim = 1)\n",
    "        return x,y,z"
   ]
  },
  {
   "cell_type": "code",
   "execution_count": 190,
   "metadata": {
    "collapsed": true
   },
   "outputs": [],
   "source": [
    "R = 4\n",
    "n = 1\n",
    "k = n*R\n",
    "\n",
    "num_bits    = k*2**k   # Set the number of bits as constant\n",
    "batch_size  = 2**k     # Make the batch size constant\n",
    "num_batch   = int(num_bits/(batch_size*k))\n",
    "\n",
    "random_data = 0"
   ]
  },
  {
   "cell_type": "code",
   "execution_count": 191,
   "metadata": {
    "collapsed": true
   },
   "outputs": [],
   "source": [
    "if random_data == 1:\n",
    "    data = rand.randint(2, size = (num_bits, ))\n",
    "else:\n",
    "    data = []\n",
    "    for i in range(2**k):\n",
    "        data.append(num_to_bin(i, k))\n",
    "    data = np.asarray(data)"
   ]
  },
  {
   "cell_type": "code",
   "execution_count": 192,
   "metadata": {
    "collapsed": true
   },
   "outputs": [],
   "source": [
    "input = torch.from_numpy(data)\n",
    "input = input.view(num_batch, batch_size, k)\n",
    "input = input.float()\n",
    "input = autograd.Variable(input)"
   ]
  },
  {
   "cell_type": "code",
   "execution_count": 193,
   "metadata": {
    "collapsed": true
   },
   "outputs": [],
   "source": [
    "model     = Net(in_size = k, hidden_size = 32, out_size = 2*n)\n",
    "optimizer = optim.Adam(model.parameters(), lr = 0.005)\n",
    "criterion = nn.NLLLoss()"
   ]
  },
  {
   "cell_type": "code",
   "execution_count": 194,
   "metadata": {
    "collapsed": true
   },
   "outputs": [],
   "source": [
    "epochs   = 10000\n",
    "loss_vec = []\n",
    "\n",
    "# Training\n",
    "for i in range(epochs):\n",
    "    for j in range(input.shape[0]):\n",
    "        nn_in     = input[j]\n",
    "        optimizer.zero_grad()\n",
    "        out,x1,x2      = model(nn_in)       \n",
    "        input_num = input_to_number(nn_in)\n",
    "        loss      = criterion(out, input_num)     # Output == Input\n",
    "        loss.backward()\n",
    "        optimizer.step()\n",
    "        loss_vec.append(loss.item())"
   ]
  },
  {
   "cell_type": "code",
   "execution_count": 195,
   "metadata": {},
   "outputs": [
    {
     "data": {
      "image/png": "[encoded data removed]",
      "text/plain": [
       "<Figure size 432x288 with 1 Axes>"
      ]
     },
     "metadata": {},
     "output_type": "display_data"
    }
   ],
   "source": [
    "# Testing\n",
    "test_input = input[0]\n",
    "out,x1,x2 = model(test_input)\n",
    "out_ind = torch.argmax(out, dim = 1)\n",
    "input_num = input_to_number(test_input)\n",
    "error = (out_ind != input_num)   \n",
    "plt.plot(20*np.log10(loss_vec))\n",
    "plt.show()"
   ]
  },
  {
   "cell_type": "code",
   "execution_count": 196,
   "metadata": {},
   "outputs": [
    {
     "data": {
      "image/png": "[encoded data removed]",
      "text/plain": [
       "<Figure size 432x288 with 1 Axes>"
      ]
     },
     "metadata": {},
     "output_type": "display_data"
    }
   ],
   "source": [
    "Tx = x1.detach().numpy()\n",
    "Rx = x2.detach().numpy()\n",
    "\n",
    "plt.figure();\n",
    "plt.scatter(Tx[:,0],Tx[:,1])\n",
    "plt.show()\n",
    "\n"
   ]
  },
  {
   "cell_type": "code",
   "execution_count": 197,
   "metadata": {},
   "outputs": [
    {
     "data": {
      "image/png": "[encoded data removed]",
      "text/plain": [
       "<Figure size 432x288 with 1 Axes>"
      ]
     },
     "metadata": {},
     "output_type": "display_data"
    }
   ],
   "source": [
    "plt.figure();\n",
    "plt.scatter(Rx[:,0],Rx[:,1])\n",
    "plt.show()"
   ]
  },
  {
   "cell_type": "code",
   "execution_count": null,
   "metadata": {
    "collapsed": true
   },
   "outputs": [],
   "source": []
  },
  {
   "cell_type": "code",
   "execution_count": null,
   "metadata": {
    "collapsed": true
   },
   "outputs": [],
   "source": []
  },
  {
   "cell_type": "code",
   "execution_count": null,
   "metadata": {
    "collapsed": true
   },
   "outputs": [],
   "source": []
  }
 ],
 "metadata": {
  "kernelspec": {
   "display_name": "Python 3",
   "language": "python",
   "name": "python3"
  },
  "language_info": {
   "codemirror_mode": {
    "name": "ipython",
    "version": 3
   },
   "file_extension": ".py",
   "mimetype": "text/x-python",
   "name": "python",
   "nbconvert_exporter": "python",
   "pygments_lexer": "ipython3",
   "version": "3.6.6"
  }
 },
 "nbformat": 4,
 "nbformat_minor": 2
}
